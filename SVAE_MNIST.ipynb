{
  "nbformat": 4,
  "nbformat_minor": 0,
  "metadata": {
    "colab": {
      "provenance": [],
      "collapsed_sections": [
        "Lh0uF6-jLgP_"
      ]
    },
    "kernelspec": {
      "name": "python3",
      "display_name": "Python 3"
    },
    "language_info": {
      "name": "python"
    },
    "accelerator": "GPU"
  },
  "cells": [
    {
      "cell_type": "code",
      "metadata": {
        "colab": {
          "base_uri": "https://localhost:8080/"
        },
        "id": "jlahiqBB7QaU",
        "outputId": "aae17d34-9f27-41be-8a78-ded633fa5a34"
      },
      "source": [
        "import os\n",
        "import numpy as np\n",
        "#import tensorflow as tf\n",
        "import tensorflow.compat.v1 as tf\n",
        "tf.disable_v2_behavior()\n",
        "import matplotlib.pyplot as plt\n",
        "import random"
      ],
      "execution_count": null,
      "outputs": [
        {
          "output_type": "stream",
          "text": [
            "WARNING:tensorflow:From /usr/local/lib/python3.7/dist-packages/tensorflow/python/compat/v2_compat.py:96: disable_resource_variables (from tensorflow.python.ops.variable_scope) is deprecated and will be removed in a future version.\n",
            "Instructions for updating:\n",
            "non-resource variables are not supported in the long term\n"
          ],
          "name": "stdout"
        }
      ]
    },
    {
      "cell_type": "markdown",
      "metadata": {
        "id": "kCrlkyGOM4uP"
      },
      "source": [
        "# SVAE Class"
      ]
    },
    {
      "cell_type": "code",
      "metadata": {
        "id": "nRAPB5OO8iMB"
      },
      "source": [
        "class SVAE:\n",
        "    \n",
        "    def __init__(\n",
        "        self, checkpoint_dir, log_dir, img_shape=(32, 32, 1),\n",
        "        num_latents=32, num_classes=10):\n",
        "        \n",
        "        self.checkpoint_dir = checkpoint_dir\n",
        "        self.img_shape = img_shape\n",
        "        self.num_latents = num_latents\n",
        "        self.num_classes = num_classes\n",
        "        \n",
        "        with tf.compat.v1.variable_scope('svae', reuse=tf.compat.v1.AUTO_REUSE):\n",
        "            self.global_step = tf.Variable(0, name='global_step', trainable=False)\n",
        "            self._create_network()\n",
        "            self._create_losses()\n",
        "            self._create_optimizers()\n",
        "            self._create_metrics()\n",
        "            self._create_summaries()\n",
        "        \n",
        "        self.sess = tf.Session()\n",
        "        self.sess.run(tf.global_variables_initializer())\n",
        "\n",
        "        self._load_checkpoint()\n",
        "        self.summary_writer = tf.summary.FileWriter(log_dir, self.sess.graph)\n",
        "        self.best_val_acc = -float('inf')\n",
        "        self.best_val_recon_loss = float('inf')\n",
        "        \n",
        "    def _load_checkpoint(self):\n",
        "        \"\"\"\n",
        "        Checks if a model checkpoint exists, and if so, alters 'self.sess' to\n",
        "        reflect the appropriate state of the Tensorflow computation graph.\n",
        "        \"\"\"\n",
        "        self.saver = tf.train.Saver(max_to_keep=5)\n",
        "        checkpoint = tf.train.get_checkpoint_state(self.checkpoint_dir)\n",
        "\n",
        "        # If checkpoint exists and is reachable, load checkpoint state into 'sess'\n",
        "        if checkpoint and checkpoint.model_checkpoint_path:\n",
        "                self.saver.restore(self.sess, checkpoint.model_checkpoint_path)\n",
        "                print('loaded checkpoint: {}'.format(\n",
        "                    checkpoint.model_checkpoint_path))\n",
        "        else:\n",
        "                print(\n",
        "                        'Could not find old checkpoint. '\n",
        "                        'Creating new checkpoint directory.'\n",
        "                )\n",
        "                if not os.path.exists(self.checkpoint_dir):\n",
        "                        os.mkdir(self.checkpoint_dir)\n",
        "                \n",
        "    def _save_checkpoint(self):\n",
        "        print('checkpointing: {}'.format(self.checkpoint_dir))\n",
        "        self.saver.save(\n",
        "            self.sess,\n",
        "            self.checkpoint_dir,\n",
        "            global_step=self.global_step)\n",
        "                        \n",
        "    def _create_encoder_network(self, x, reuse=tf.compat.v1.AUTO_REUSE):\n",
        "        \"\"\"\n",
        "        Create computation graph that returns output tensors of the recognition\n",
        "        network: a tensor of means and a tensor of log standard deviations that\n",
        "        define the factorized latent distribution q(z).\n",
        "        \"\"\"\n",
        "        with tf.compat.v1.variable_scope('encoder', reuse=reuse):\n",
        "            # If input images were reshaped into vectors, reshape them back into\n",
        "            # their original dimensions for convolutional layers.\n",
        "            # height, width, channels = self.img_shape\n",
        "            # x_reshaped = tf.reshape(x, [-1, height, width, channels])\n",
        "\n",
        "            # Ex: filters=32, kernel_size=4, stride=2\n",
        "            x = tf.layers.Conv2D(32, 4, 2, 'same', activation=tf.nn.relu,)(x)\n",
        "            x = tf.layers.BatchNormalization(axis=-1, momentum=0.1, epsilon=1e-5)(x)\n",
        "            x = tf.layers.Conv2D(64, 4, 2, 'same', activation=tf.nn.relu,)(x)\n",
        "            x = tf.layers.BatchNormalization(axis=-1, momentum=0.1, epsilon=1e-5)(x)\n",
        "            x = tf.layers.Conv2D(128, 4, 2, 'same', activation=tf.nn.relu,)(x)\n",
        "            x = tf.layers.BatchNormalization(axis=-1, momentum=0.1, epsilon=1e-5)(x)\n",
        "            x = tf.layers.Conv2D(128, 4, activation=tf.nn.relu,)(x)\n",
        "            x = tf.layers.BatchNormalization(axis=-1, momentum=0.1, epsilon=1e-5)(x)\n",
        "            # Final convolutions downsize each channels' dimensions to a 1x1 patch,\n",
        "            # resulting in a final tensors with shape (batch_size, 1, 1, num_latents)\n",
        "            z_mean = tf.layers.Conv2D(self.num_latents, 1)(x)\n",
        "\n",
        "            # log_sigma used for numerical stability\n",
        "            z_log_sigma = tf.layers.Conv2D(self.num_latents, 1)(x)\n",
        "\n",
        "            # Reshape outputs to remove extra dimensions. This is necessary\n",
        "            # for the _sample_z function.\n",
        "            z_mean = tf.reshape(\n",
        "                z_mean, shape=(-1, self.num_latents), name='z_mean')\n",
        "            z_log_sigma = tf.reshape(\n",
        "                z_log_sigma, shape=(-1, self.num_latents), name='z_log_sigma')\n",
        "\n",
        "            return (z_mean, z_log_sigma)\n",
        "        \n",
        "    def _create_decoder_network(self, z, reuse=tf.compat.v1.AUTO_REUSE):\n",
        "        \"\"\"\n",
        "        Create computation graph that accepts tensors for sampled latent vectors\n",
        "        and returns output logit tensors. Activations for these output logits are\n",
        "        applied separately when creating the full autoencoder network and loss\n",
        "        corresponding loss function.\n",
        "        \"\"\"\n",
        "        with tf.compat.v1.variable_scope('decoder', reuse=reuse):\n",
        "            # A mini-batch of sampled latent vectors has shape\n",
        "            # (batch_size, num_latents) and need to be reshaped into num_latents\n",
        "            # 1x1 channels\n",
        "            z = tf.reshape(z, shape=(-1, 1, 1, self.num_latents))\n",
        "\n",
        "            # Ex: filters=32, kernel_size=1, stride=1\n",
        "            z = tf.layers.Conv2DTranspose(\n",
        "                128, 1, 1, 'valid', activation=tf.nn.relu,)(z)\n",
        "            z = tf.layers.BatchNormalization(\n",
        "                axis=-1, momentum=0.1, epsilon=1e-5)(z)\n",
        "            z = tf.layers.Conv2DTranspose(\n",
        "                128, 4, 1, 'valid', activation=tf.nn.relu,)(z)\n",
        "            z = tf.layers.BatchNormalization(\n",
        "                axis=-1, momentum=0.1, epsilon=1e-5)(z)\n",
        "            z = tf.layers.Conv2DTranspose(\n",
        "                64, 4, 2, 'same', activation=tf.nn.relu,)(z)\n",
        "            z = tf.layers.BatchNormalization(\n",
        "                axis=-1, momentum=0.1, epsilon=1e-5)(z)\n",
        "            z = tf.layers.Conv2DTranspose(\n",
        "                128, 4, 2, 'same', activation=tf.nn.relu,)(z)\n",
        "            z = tf.layers.BatchNormalization(\n",
        "                axis=-1, momentum=0.1, epsilon=1e-5)(z)\n",
        "            x = tf.layers.Conv2DTranspose(\n",
        "                self.img_shape[-1], 4, 2, 'same', activation=None,)(z)\n",
        "\n",
        "            x_out_logit = tf.identity(x, name='x_out_logit')\n",
        "\n",
        "            return x_out_logit\n",
        "        \n",
        "    def _sample_z(self, z_mean, z_log_sigma):\n",
        "        \"\"\"\n",
        "        Reparametrization trick to sample from latent distribution.\n",
        "        sample = mean + standard_deviation * gaussian_noise \n",
        "        where gaussian_noise ~ N(0, 1)\n",
        "        \"\"\"\n",
        "        eps_shape = tf.shape(z_mean)\n",
        "        eps = tf.random_normal(eps_shape, 0, 1, dtype=tf.float32 )\n",
        "\n",
        "        # z = mu + sigma * epsilon\n",
        "        z = tf.add(z_mean,\n",
        "                             tf.multiply(tf.exp(z_log_sigma), eps), name='z_sample')\n",
        "        return z\n",
        "\n",
        "    def _create_network(self):\n",
        "        \"\"\"\n",
        "        Define the entire computation graph that includes the recognition network,\n",
        "        latent distribution sampling, and generator network.\n",
        "        \"\"\"\n",
        "        height, width, channels = self.img_shape\n",
        "        self.x_input = tf.placeholder(\n",
        "            tf.float32, shape=[None, height, width, channels], name='x_input')\n",
        "        self.y_input = tf.placeholder(\n",
        "            tf.float32, shape=[None, self.num_classes], name='y_input')\n",
        "        self.learning_rate = tf.placeholder(\n",
        "            tf.float32, name='learning_rate')\n",
        "        self.beta = tf.placeholder(\n",
        "            tf.float32, name='beta')\n",
        "\n",
        "        # Get tensors for latent distribution parameters\n",
        "        self.z_mean, self.z_log_sigma = self._create_encoder_network(self.x_input)\n",
        "\n",
        "        # Sample latent vectors from their corresponding distributions\n",
        "        self.z = self._sample_z(self.z_mean, self.z_log_sigma)\n",
        "        \n",
        "        self.y_logits = self._create_classifier_network(self.z)\n",
        "        \n",
        "        # When not training, generate deterministic predictions by\n",
        "        # substituting the sampled latent vectors with the means of the\n",
        "        # distribution.\n",
        "        y_logits_denoised = self._create_classifier_network(self.z_mean)\n",
        "        self.y_pred_denoised = tf.nn.softmax(y_logits_denoised)\n",
        "        self.y_pred_labels = self.predict_label(self.y_pred_denoised)\n",
        "\n",
        "        # Using latent sample, create reconstructed pixel values. These noisy\n",
        "        # reconstructions are only used to calculate loss when training the model.\n",
        "        self.x_out_logit = self._create_decoder_network(self.z)\n",
        "        self.x_out = tf.nn.sigmoid(self.x_out_logit, name='x_out')\n",
        "\n",
        "        # When not training, generate deterministic reconstructions by\n",
        "        # substituting the sampled latent vectors with the means of the\n",
        "        # distribution.\n",
        "        self.x_out_logit_denoised = self._create_decoder_network(\n",
        "            self.z_mean, reuse=True)\n",
        "        self.x_out_denoised = tf.nn.sigmoid(\n",
        "            self.x_out_logit_denoised, name='x_out_denoised')\n",
        "            \n",
        "    def _create_classifier_network(self, z):\n",
        "        with tf.compat.v1.variable_scope('classifier', reuse=tf.compat.v1.AUTO_REUSE):\n",
        "            y_logits = tf.layers.Dense(self.num_classes, name='y_logits')(z)\n",
        "        return y_logits\n",
        "    \n",
        "    def _create_losses(self):\n",
        "\n",
        "        # Flatten each input image into a vector\n",
        "        height, width, channels = self.img_shape\n",
        "        flat_shape = [-1, height*width*channels]\n",
        "        x_input_flattened = tf.reshape(self.x_input, flat_shape)\n",
        "        x_out_logit_flattened = tf.reshape(self.x_out_logit, flat_shape)\n",
        "        \n",
        "        # Reconstruction loss\n",
        "        reconstruction_loss = tf.nn.sigmoid_cross_entropy_with_logits( labels=x_input_flattened, logits=x_out_logit_flattened)\n",
        "\n",
        "        reconstruction_loss = tf.reduce_sum(reconstruction_loss, 1)\n",
        "\n",
        "        self.reconstruction_loss = tf.reduce_mean(reconstruction_loss, name='reconstruction_loss')\n",
        "        \n",
        "        # Binary cross-entropy loss\n",
        "        cross_entropy_loss = tf.nn.softmax_cross_entropy_with_logits_v2( labels=self.y_input, logits=self.y_logits)\n",
        "        \n",
        "        self.cross_entropy_loss = tf.reduce_mean(cross_entropy_loss, name='cross_entropy_loss')\n",
        "\n",
        "        # Latent loss\n",
        "        z_log_sigma_sq = tf.square(self.z_log_sigma)\n",
        "        latent_loss = -0.5 * tf.reduce_sum(1 + z_log_sigma_sq - tf.square(self.z_mean) - tf.exp(z_log_sigma_sq), 1)\n",
        "        \n",
        "        self.latent_loss = tf.reduce_mean(latent_loss)\n",
        "        \n",
        "        self.classification_loss = \\\n",
        "            self.cross_entropy_loss + self.beta * self.latent_loss\n",
        "\n",
        "    def _create_summaries(self):\n",
        "        cross_entropy_loss_summary = tf.summary.scalar(\n",
        "            'cross-entropy loss', self.cross_entropy_loss)\n",
        "        latent_loss_summary = tf.summary.scalar(\n",
        "            'latent loss', self.latent_loss)\n",
        "        classification_loss_summary = tf.summary.scalar(\n",
        "            'classification loss', self.classification_loss)\n",
        "        summary_ops_classifier = [\n",
        "            cross_entropy_loss_summary,\n",
        "            latent_loss_summary,\n",
        "            classification_loss_summary]\n",
        "\n",
        "        reconstruction_loss_summary = tf.summary.scalar(\n",
        "            'reconstruction loss', self.reconstruction_loss)\n",
        "        summary_ops_decoder = [reconstruction_loss_summary]\n",
        "\n",
        "        self.summary_ops_classifier_merged = tf.summary.merge(\n",
        "            summary_ops_classifier)\n",
        "        self.summary_ops_decoder_merged = tf.summary.merge(\n",
        "            summary_ops_decoder)\n",
        "        self.train_accuracy_summary_op = tf.summary.scalar(\n",
        "            'train accuracy', self.accuracy)\n",
        "        self.validation_accuracy_summary_op = tf.summary.scalar(\n",
        "            'validation accuracy', self.accuracy)\n",
        "\n",
        "        self.traversals = tf.placeholder(\n",
        "            tf.float32, (None, None, None, self.img_shape[-1]))\n",
        "        self.traversals_summary_op = tf.summary.image(\n",
        "            'traversal_check', self.traversals, max_outputs=1)\n",
        "            \n",
        "    def _create_optimizers(self):\n",
        "        \n",
        "        optimizer = tf.train.AdamOptimizer\n",
        "        classifier_optimizer = optimizer(self.learning_rate)\n",
        "        self.classifier_optimizer = classifier_optimizer.minimize(\n",
        "            self.classification_loss,\n",
        "            global_step=self.global_step)\n",
        "        \n",
        "        decoder_weights = tf.get_collection(\n",
        "            tf.GraphKeys.TRAINABLE_VARIABLES, 'svae/decoder')\n",
        "        decoder_optimizer = optimizer(self.learning_rate)\n",
        "        self.decoder_optimizer = decoder_optimizer.minimize(\n",
        "            self.reconstruction_loss, var_list=decoder_weights,\n",
        "            global_step=self.global_step)\n",
        "\n",
        "    def _create_metrics(self):\n",
        "\n",
        "        y_pred_labels = tf.cast(self.y_pred_labels, dtype=tf.float32)\n",
        "        y_pred_labels_encoded = tf.argmax(y_pred_labels, axis=1)\n",
        "        y_labels_encoded = tf.argmax(self.y_input, axis=1)\n",
        "\n",
        "        self.accuracy, self.accuracy_update = tf.metrics.accuracy(\n",
        "            predictions=y_pred_labels_encoded,\n",
        "            labels=y_labels_encoded, name=\"accuracy\")\n",
        "        self.running_vars = tf.get_collection(\n",
        "            tf.GraphKeys.LOCAL_VARIABLES, scope=tf.get_variable_scope().name)\n",
        "        # print(self.running_vars)\n",
        "        # Define initializer to initialize/reset running variables\n",
        "        self.running_vars_initializer = tf.variables_initializer(\n",
        "            var_list=self.running_vars)\n",
        "\n",
        "    \n",
        "\n",
        "    # def fit_classifier(\n",
        "    #     self, x, y, num_epochs=5, batch_size=256,\n",
        "    #     learning_rate=1e-3, beta=1):\n",
        "    #     \"\"\"\n",
        "    #     Train encoder and classifier networks.\n",
        "\n",
        "    #     Parameters\n",
        "    #     ----------\n",
        "    #     x : array-like, shape = [num_samples, height, width, channels]\n",
        "    #         A set of input images.\n",
        "    #     y : array-like, shape = [num_samples, num_classes]\n",
        "    #         A one-hot encoded matrix of training labels.\n",
        "    #     \"\"\"\n",
        "    #     # Shuffle x and y\n",
        "    #     num_samples = len(x)\n",
        "    #     for epoch in range(num_epochs):\n",
        "    #         random_indices = np.random.permutation(num_samples)\n",
        "    #         x = x[random_indices]\n",
        "    #         y = y[random_indices]\n",
        "\n",
        "    #         # Split x and y into batches\n",
        "    #         num_batches = num_samples // batch_size\n",
        "    #         indices = [[k, k+batch_size] for k in range(0, num_samples, batch_size)]\n",
        "    #         indices[-1][-1] = num_samples\n",
        "    #         x_batches = [x[start:end] for start, end in indices]\n",
        "    #         y_batches = [y[start:end] for start, end in indices]\n",
        "            \n",
        "    #         print('Training epoch {}...'.format(epoch))\n",
        "    #         # Iteratively train the classifier\n",
        "    #         for x_batch, y_batch in zip(x_batches, y_batches):\n",
        "    #             self._partial_fit_classifier(\n",
        "    #                 x_batch, y_batch, learning_rate, beta)\n",
        "\n",
        "    def _calc_classifier_metrics(self, data_generator):\n",
        "        \"\"\"\n",
        "        Calculate accuracy and loss metrics for input data,\n",
        "        based on the existing network in current session.\n",
        "\n",
        "        Parameters\n",
        "        ----------\n",
        "        data_generator : python generator\n",
        "            a generator on either train or val dataset.\n",
        "\n",
        "        Return\n",
        "        ---------\n",
        "        acc : scalar\n",
        "            accuracy score over whole dataset.\n",
        "        loss : scalar\n",
        "            loss over whole dataset.\n",
        "        \"\"\"\n",
        "\n",
        "        _ = self.sess.run(self.running_vars_initializer)\n",
        "        loss_list = []\n",
        "\n",
        "        while True:\n",
        "            x_batch, y_batch = data_generator.next()\n",
        "            y_batch_cat = tf.keras.utils.to_categorical(\n",
        "                y_batch, num_classes=self.num_classes)\n",
        "\n",
        "            feed_dict = {\n",
        "                self.x_input: x_batch,\n",
        "                self.y_input: y_batch_cat\n",
        "            }\n",
        "            # Calulate accuracy\n",
        "            self.sess.run(self.accuracy_update,\n",
        "                                feed_dict=feed_dict)\n",
        "\n",
        "            # Calculate loss\n",
        "            batch_loss_realized = self.sess.run(self.cross_entropy_loss,\n",
        "                                feed_dict=feed_dict)\n",
        "            loss_list.append(batch_loss_realized)\n",
        "\n",
        "            # print('Predicting batch {} of {}'.format(\n",
        "            # \tdata_generator.batch_index,\n",
        "            # \tlen(data_generator)))\n",
        "\n",
        "            if data_generator.batch_index == 0:\n",
        "                break\n",
        "        acc = self.sess.run(self.accuracy)\n",
        "        loss = np.mean(loss_list)\n",
        "\n",
        "        return acc, loss\n",
        "\n",
        "    def _calc_decoder_metrics(self, data_generator):\n",
        "        \"\"\"\n",
        "        Calculate loss metrics for input data,\n",
        "        based on the existing decoder network in current session.\n",
        "\n",
        "        Parameters\n",
        "        ----------\n",
        "        data_generator : keras ImageDataGenerator\n",
        "            A generator on either train or val dataset.\n",
        "\n",
        "        Return\n",
        "        ---------\n",
        "        loss : float\n",
        "            Reconstruction loss calculated over whole epoch.\n",
        "        \"\"\"\n",
        "\n",
        "        losses = list()\n",
        "\n",
        "        while True:\n",
        "            x_batch, y_batch = data_generator.next()\n",
        "\n",
        "            feed_dict = {\n",
        "                self.x_input: x_batch\n",
        "            }\n",
        "\n",
        "            # Calculate loss\n",
        "            reconstruction_loss = self.sess.run(\n",
        "                self.reconstruction_loss, feed_dict=feed_dict)\n",
        "            losses.append(reconstruction_loss)\n",
        "\n",
        "            if data_generator.batch_index == 0:\n",
        "                break\n",
        "\n",
        "        loss = np.mean(losses)\n",
        "\n",
        "        return loss\n",
        "        \n",
        "    def _partial_fit_classifier(self, x_batch, y_batch, learning_rate, beta):\n",
        "        \"\"\"\n",
        "        Train encoder and classifier networks based on minibatch\n",
        "        of training data.\n",
        "\n",
        "        Parameters\n",
        "        ----------\n",
        "        x_batch : array-like, shape = [batch_size, height, width, channels]\n",
        "            A minibatch of input images.\n",
        "        y_batch : array-like, shape = [batch_size, num_classes]\n",
        "            A one-hot encoded matrix of training labels.\n",
        "        \"\"\"\n",
        "        \n",
        "        feed_dict = {\n",
        "            self.x_input: x_batch,\n",
        "            self.y_input: y_batch,\n",
        "            self.learning_rate: learning_rate,\n",
        "            self.beta: beta\n",
        "        }\n",
        "        _ = self.sess.run(self.classifier_optimizer, feed_dict=feed_dict)\n",
        "                \n",
        "        step = self.sess.run(self.global_step)\n",
        "        summary_str = self.sess.run(\n",
        "            self.summary_ops_classifier_merged, feed_dict=feed_dict)\n",
        "        self.summary_writer.add_summary(summary_str, step)\n",
        "\n",
        "        # print(\n",
        "        # \t'cross_entropy_loss:',\n",
        "        # \tself.sess.run(self.cross_entropy_loss, feed_dict=feed_dict),\n",
        "        # \tend='\\t')\n",
        "        # print(\n",
        "        # \t'latent_loss:',\n",
        "        # \tself.sess.run(self.latent_loss, feed_dict=feed_dict))\n",
        "        return self.sess.run(self.cross_entropy_loss, feed_dict=feed_dict), self.sess.run(self.latent_loss, feed_dict=feed_dict)\n",
        "\n",
        "    def fit_classifier_generator(\n",
        "        self, train_generator, val_generator=None, num_epochs=5, \n",
        "        learning_rate=1e-4, beta=1):\n",
        "        \"\"\"\n",
        "        Train encoder and classifier networks with generators\n",
        "\n",
        "        Parameters\n",
        "        ----------\n",
        "        train_generator: a generator on training data\n",
        "        val_generator: a generator on validation data\n",
        "        num_epochs: number of passes we specify for the whole dataset\n",
        "        \"\"\"\n",
        "\n",
        "        epoch_counter = -1\n",
        "        while epoch_counter < num_epochs:\n",
        "            # print('batch_index:', train_generator.batch_index)\n",
        "            if train_generator.batch_index == 0:\n",
        "                epoch_counter += 1\n",
        "                print('==========Training classifier, epoch {} =========='.format(epoch_counter))\n",
        "\n",
        "                train_acc, train_loss = self._calc_classifier_metrics(train_generator)\n",
        "                print('Train accuracy = {:.4f}'.format(train_acc), end='\\t')\n",
        "                print('Train loss = {:.4f}'.format(train_loss))\n",
        "\n",
        "                \n",
        "\n",
        "                step = self.sess.run(self.global_step)\n",
        "                summary_str = self.sess.run(self.train_accuracy_summary_op)\n",
        "                self.summary_writer.add_summary(summary_str, step)\n",
        "            \n",
        "                if val_generator is not None:\n",
        "                \tval_acc, val_loss = self._calc_classifier_metrics(val_generator)\n",
        "                \tsummary_str = self.sess.run(self.validation_accuracy_summary_op)\n",
        "                \tself.summary_writer.add_summary(summary_str, step)\n",
        "                \tprint('Validation accuracy = {:.4f}'.format(val_acc), end='\\t')\n",
        "                \tprint('Validation loss = {:.4f}'.format(val_loss))\n",
        "\n",
        "                \tif val_acc > self.best_val_acc:\n",
        "                \t\tprint(\n",
        "                \t\t\t'Best validation accuracy improved from '\n",
        "                \t\t\t'{:.4f} to {:.4f}'.format(self.best_val_acc, val_acc)\n",
        "                \t\t)\n",
        "                \t\tself.best_val_acc = val_acc\n",
        "                \t\tself._save_checkpoint()\n",
        "                else:\n",
        "                \tself._save_checkpoint()\n",
        "            \n",
        "            x_batch, y_batch = train_generator.next()\n",
        "            assert(not np.isnan(x_batch).any() and not np.isnan(y_batch).any())\n",
        "\n",
        "            # One-hot encode labels\n",
        "            y_batch = tf.keras.utils.to_categorical(\n",
        "                y_batch, num_classes=self.num_classes)\n",
        "            \n",
        "            CE_Loss, latent_loss = self._partial_fit_classifier(x_batch, y_batch, learning_rate, beta)\n",
        "        print(f\"Cross_entropy_loss: {CE_Loss} \\t Latent_loss: {latent_loss}\")\n",
        "\n",
        "            \n",
        "        \n",
        "                \n",
        "    def _partial_fit_decoder(self, x_batch, learning_rate):\n",
        "        \"\"\"\n",
        "        Train decoder network based on minibatch of input images.\n",
        "\n",
        "        Parameters\n",
        "        ----------\n",
        "        x_batch : array-like, shape = [batch_size, height, width, channels]\n",
        "            A minibatch of input images.\n",
        "        \"\"\"\n",
        "        feed_dict = {\n",
        "            self.x_input: x_batch,\n",
        "            self.learning_rate: learning_rate,\n",
        "        }\n",
        "        _ = self.sess.run(self.decoder_optimizer, feed_dict=feed_dict)\n",
        "                \n",
        "        step = self.sess.run(self.global_step)\n",
        "        summary_str = self.sess.run(\n",
        "            self.summary_ops_decoder_merged, feed_dict=feed_dict)\n",
        "        self.summary_writer.add_summary(summary_str, step)\n",
        "\n",
        "        # print(\n",
        "        #     'reconstruction_loss:',\n",
        "        #     self.sess.run(self.reconstruction_loss, feed_dict=feed_dict)\n",
        "        # )\n",
        "        return self.sess.run(self.reconstruction_loss, feed_dict=feed_dict)\n",
        "\n",
        "    def _check_latent_traversals(self, image):\n",
        "        \"\"\"\n",
        "        Performs latent traversals on a single image and sends\n",
        "        said traversals to Tensorboard.\n",
        "\n",
        "        Parameters\n",
        "        ==========\n",
        "        image : numpy array, shape = (height, width, channels)\n",
        "        \"\"\"\n",
        "\n",
        "        image = [image] # Gives input image a batch dimension\n",
        "        latent_means = self.compress(image) \n",
        "        latent_means = latent_means.squeeze() # Removes batch dimension\n",
        "        \n",
        "        traversals = list()\n",
        "        for index in range(len(latent_means)):\n",
        "            latent_means_copy = latent_means.copy()\n",
        "            traversal = list()\n",
        "            for new_val in np.linspace(-4, 4, 9):\n",
        "                latent_means_copy[index] = new_val\n",
        "                latent_means_batch = [latent_means_copy]\n",
        "                reconstruction = self.reconstruct_latents(latent_means_batch)\n",
        "                reconstruction = reconstruction.squeeze()\n",
        "                traversal.append(reconstruction)\n",
        "            # Combine reconstructions into one row of images (a traversal)\n",
        "            traversal = np.column_stack(traversal)\n",
        "            traversals.append(traversal)\n",
        "        # Combine traversals, resulting in a matrix of images\n",
        "        traversals = np.row_stack(traversals)\n",
        "        traversals = np.expand_dims(traversals, -1) # Add channel dimension\n",
        "        traversals = np.expand_dims(traversals, 0) # Add batch dimension\n",
        "\n",
        "        # Send traversal matrix to Tensorboard\n",
        "        summary_str = self.sess.run(\n",
        "            self.traversals_summary_op,\n",
        "            feed_dict={self.traversals: traversals})\n",
        "        step = self.sess.run(self.global_step)\n",
        "        self.summary_writer.add_summary(summary_str, step)\n",
        "\n",
        "        \n",
        "\n",
        "    # def fit_decoder(self, x, num_epochs=5, batch_size=256, learning_rate=1e-3):\n",
        "    #     \"\"\"\n",
        "    #     Train decoder network.\n",
        "\n",
        "    #     Parameters\n",
        "    #     ----------\n",
        "    #     x : array-like, shape = [num_samples, height, width, channels]\n",
        "    #         A set of input images.\n",
        "    #     \"\"\"\n",
        "\n",
        "    #     # Shuffle x\n",
        "    #     num_samples = len(x)\n",
        "    #     for epoch in range(num_epochs):\n",
        "    #         random_indices = np.random.permutation(num_samples)\n",
        "    #         x = x[random_indices]\n",
        "\n",
        "    #         # Split x into batches\n",
        "    #         num_batches = num_samples // batch_size\n",
        "    #         indices = [[k, k+batch_size] for k in range(0, num_samples, batch_size)]\n",
        "    #         indices[-1][-1] = num_samples\n",
        "    #         x_batches = [x[start:end] for start, end in indices]\n",
        "            \n",
        "    #         print('==================Training epoch {} =================='.format(epoch))\n",
        "    #         # Iteratively train the decoder\n",
        "    #         for x_batch in x_batches:\n",
        "    #             self._partial_fit_decoder(x_batch, learning_rate)\n",
        "\n",
        "    def fit_decoder_generator(\n",
        "        self, train_generator, val_generator=None,\n",
        "        num_epochs=5, learning_rate=1e-3):\n",
        "\n",
        "        epoch_counter = -1\n",
        "        while epoch_counter < num_epochs:\n",
        "            if train_generator.batch_index == 0:\n",
        "                epoch_counter += 1\n",
        "                print('==========Training Decoder, epoch {} =========='.format(epoch_counter))\n",
        "\n",
        "                # train_loss = self._calc_decoder_metrics(train_generator)\n",
        "                # print('Train loss = {:.4f}'.format(train_loss))\n",
        "\n",
        "                x_batch, y_batch = train_generator.next()\n",
        "                check_image = x_batch[0]\n",
        "                self._check_latent_traversals(check_image)\n",
        "\n",
        "                recon = self.reconstruct(x_batch)\n",
        "\n",
        "                # print 5 reconstructed images at each epoch\n",
        "                recon_sam = recon[:5]\n",
        "                \n",
        "                plt.subplot(1,5,1)\n",
        "                plt.imshow(recon_sam[0].reshape((32,32)), cmap='gray')\n",
        "\n",
        "                plt.subplot(1,5,2)\n",
        "                plt.imshow(recon_sam[1].reshape((32,32)), cmap='gray')\n",
        "\n",
        "                plt.subplot(1,5,3)\n",
        "                plt.imshow(recon_sam[2].reshape((32,32)), cmap='gray')\n",
        "\n",
        "                plt.subplot(1,5,4)\n",
        "                plt.imshow(recon_sam[3].reshape((32,32)), cmap='gray')\n",
        "\n",
        "                plt.subplot(1,5,5)\n",
        "                plt.imshow(recon_sam[4].reshape((32,32)), cmap='gray')\n",
        "                plt.axis('off')\n",
        "                plt.show()\n",
        "                \n",
        "\n",
        "                if val_generator is not None:\n",
        "                    val_loss = self._calc_decoder_metrics(val_generator)\n",
        "                    print('Validation loss = {:.4f}'.format(val_loss))\n",
        "\n",
        "                    if val_loss < self.best_val_recon_loss:\n",
        "                        print(\n",
        "                            'Best validation reconstruction loss improved '\n",
        "                            'from {:.4f} to {:.4f}'.format(self.best_val_recon_loss, val_loss)\n",
        "                        )\n",
        "                        self.best_val_recon_loss = val_loss\n",
        "                        self._save_checkpoint()\n",
        "                else:\n",
        "                    self._save_checkpoint()\n",
        "            else:\n",
        "                x_batch, y_batch = train_generator.next()\n",
        "\n",
        "            recon_loss = self._partial_fit_decoder(x_batch, learning_rate)\n",
        "        print(f\"Reconstruction Loss: {recon_loss}\")\n",
        "                \n",
        "    def predict_proba(self, x):\n",
        "        \"\"\"\n",
        "        Given a minibatch of input images, predict classes.\n",
        "\n",
        "        Parameters\n",
        "        ==========\n",
        "        x : array-like, shape = [batch_size, height, width, channels]\n",
        "            A minibatch of input images.\n",
        "\n",
        "        Returns\n",
        "        =======\n",
        "        predictions : array, shape = [batch_size, num_classes]\n",
        "            A matrix of <batch_size> predictive distributions.\n",
        "        \"\"\"\n",
        "\n",
        "        feed_dict = {\n",
        "            self.x_input: x,\n",
        "        }\n",
        "        predictions = self.sess.run(self.y_pred_denoised, feed_dict=feed_dict)\n",
        "        return predictions\n",
        "\n",
        "    def predict_label(self,y_proba):\n",
        "        \"\"\"\n",
        "        Generate predicted labels given probabilities\n",
        "\n",
        "        Parameters\n",
        "        ==========\n",
        "        y_proba : array-like, shape = [batch_size,num_classes]\n",
        "            A matrix of <batch_size> probabilities.\n",
        "\n",
        "        Returns\n",
        "        =======\n",
        "        prediction_labels : array, shape = [batch_size, num_classes]\n",
        "            A matrix of <batch_size> predicted labels.\n",
        "        \"\"\"\n",
        "        y_predict_label = y_proba >=0.5\n",
        "        return y_predict_label\n",
        "\n",
        "    def predict_generator(self, generator, labels=True):\n",
        "        y_pred_batches = list()\n",
        "        y_batches = list()\n",
        "\n",
        "        while True:\n",
        "            x_batch, y_batch = generator.next()\n",
        "            y_batch = tf.keras.utils.to_categorical(\n",
        "                y_batch, num_classes=self.num_classes)\n",
        "            y_batches.append(y_batch)\n",
        "            y_pred_batch_proba = self.predict_proba(x_batch)\n",
        "            if labels == False:\n",
        "                y_pred_batches.append(y_pred_batch_proba)\n",
        "            else:\n",
        "                y_pred_batch_labels = self.predict_label(y_pred_batch_proba)\n",
        "                y_pred_batch_labels = y_pred_batch_labels.astype(int)\n",
        "                y_pred_batches.append(y_pred_batch_labels)\n",
        "\n",
        "            if generator.batch_index == 0:\n",
        "                break\n",
        "        y_pred_batches = np.row_stack(y_pred_batches)\n",
        "        y_batches = np.row_stack(y_batches)\n",
        "\n",
        "        return y_batches, y_pred_batches\n",
        "    \n",
        "    def compress(self, x):\n",
        "        \"\"\"\n",
        "        Given a minibatch of input images, create a minibatch of \n",
        "        latent means.\n",
        "\n",
        "        Parameters\n",
        "        ==========\n",
        "        x : array-like, shape = [batch_size, height, width, channels]\n",
        "            A minibatch of input images.\n",
        "\n",
        "        Returns\n",
        "        =======\n",
        "        latents : array, shape = [batch_size, num_latent_dimensions]\n",
        "            A minibatch of latent means.\n",
        "        \"\"\"\n",
        "        feed_dict = {\n",
        "            self.x_input: x,\n",
        "        }\n",
        "        latents = self.sess.run(self.z_mean, feed_dict=feed_dict)\n",
        "        return latents\n",
        "    \n",
        "    def reconstruct(self, x):\n",
        "        \"\"\"\n",
        "        Given a minibatch of input images, create a minibatch of reconstructions.\n",
        "\n",
        "        Parameters\n",
        "        ==========\n",
        "        x : array-like, shape = [batch_size, height, width, channels]\n",
        "            A minibatch of input images.\n",
        "\n",
        "        Returns\n",
        "        =======\n",
        "        reconstructions : array, shape = [batch_size, height, width, channels]\n",
        "            A minibatch of reconstructions.\n",
        "        \"\"\"\n",
        "\n",
        "        feed_dict = {\n",
        "            self.x_input: x,\n",
        "        }\n",
        "        #reconstructions = self.sess.run(self.x_out_denoised, feed_dict=feed_dict)\n",
        "        reconstructions = self.sess.run(self.x_out, feed_dict=feed_dict)\n",
        "         \n",
        "        return reconstructions\n",
        "    \n",
        "    def reconstruct_latents(self, z):\n",
        "        \"\"\"\n",
        "        Given a minibatch of latent means, create a minibatch of reconstructions.\n",
        "\n",
        "        Parameters\n",
        "        ==========\n",
        "        z : array-like, shape = [batch_size, num_latent_dimensions]\n",
        "            A minibatch of latent means.\n",
        "\n",
        "        Returns\n",
        "        =======\n",
        "        reconstructions : array, shape = [batch_size, height, width, channels]\n",
        "            A minibatch of reconstructions.\n",
        "        \"\"\"\n",
        "\n",
        "        feed_dict = {\n",
        "            self.z_mean: z,\n",
        "        }\n",
        "        reconstructions = self.sess.run(self.x_out_denoised, feed_dict=feed_dict)\n",
        "        return reconstructions"
      ],
      "execution_count": null,
      "outputs": []
    },
    {
      "cell_type": "markdown",
      "metadata": {
        "id": "_xgcGrrDM8Gv"
      },
      "source": [
        "# Train"
      ]
    },
    {
      "cell_type": "code",
      "metadata": {
        "id": "zDlgVlK6M7Dp"
      },
      "source": [
        "from keras.utils import to_categorical\n",
        "from skimage.transform import resize\n",
        "#from tensorflow.examples.tutorials.mnist import input_data\n",
        "from tensorflow.keras.preprocessing.image import ImageDataGenerator"
      ],
      "execution_count": null,
      "outputs": []
    },
    {
      "cell_type": "code",
      "metadata": {
        "id": "vb1tXKTkN0HX"
      },
      "source": [
        "NUM_LATENTS = 32\n",
        "IMG_HEIGHT = 32\n",
        "IMG_WIDTH = 32\n",
        "IMG_CHANNELS = 1\n",
        "CHECKPOINT_DIR = '../experiments/experiment-mnist-02/checkpoints/'\n",
        "LOG_DIR = '../experiments/experiment-mnist-02/logs/'\n",
        "\n",
        "BATCH_SIZE = 256\n",
        "LEARNING_RATE = 1e-4\n",
        "BETA = 0.5"
      ],
      "execution_count": null,
      "outputs": []
    },
    {
      "cell_type": "code",
      "metadata": {
        "id": "2JjtO-8AOAHv"
      },
      "source": [
        "directories = [CHECKPOINT_DIR, LOG_DIR]\n",
        "for directory in directories:\n",
        "\tif not os.path.isdir(directory):\n",
        "\t\tos.makedirs(directory)"
      ],
      "execution_count": null,
      "outputs": []
    },
    {
      "cell_type": "code",
      "metadata": {
        "id": "a-nG2aBKODBe"
      },
      "source": [
        "def make_svae():\n",
        "\tsvae = SVAE(\n",
        "\t\tCHECKPOINT_DIR, LOG_DIR,\n",
        "\t\timg_shape=(IMG_HEIGHT, IMG_WIDTH, IMG_CHANNELS),\n",
        "\t\tnum_latents=32, num_classes=10)\n",
        "\treturn svae"
      ],
      "execution_count": null,
      "outputs": []
    },
    {
      "cell_type": "code",
      "metadata": {
        "colab": {
          "base_uri": "https://localhost:8080/"
        },
        "id": "pRkVgfhHOE4D",
        "outputId": "6dd61b0d-b14a-4252-a73d-4b687648a19f"
      },
      "source": [
        "svae = make_svae()"
      ],
      "execution_count": null,
      "outputs": [
        {
          "output_type": "stream",
          "text": [
            "INFO:tensorflow:Summary name cross-entropy loss is illegal; using cross-entropy_loss instead.\n",
            "INFO:tensorflow:Summary name latent loss is illegal; using latent_loss instead.\n",
            "INFO:tensorflow:Summary name classification loss is illegal; using classification_loss instead.\n",
            "INFO:tensorflow:Summary name reconstruction loss is illegal; using reconstruction_loss instead.\n",
            "INFO:tensorflow:Summary name train accuracy is illegal; using train_accuracy instead.\n",
            "INFO:tensorflow:Summary name validation accuracy is illegal; using validation_accuracy instead.\n",
            "Could not find old checkpoint. Creating new checkpoint directory.\n"
          ],
          "name": "stdout"
        }
      ]
    },
    {
      "cell_type": "code",
      "metadata": {
        "id": "B8s6tmadOG5J"
      },
      "source": [
        "def resize_data(X):\n",
        "    print(X.shape)\n",
        "    image_list = list()\n",
        "    for image in X:\n",
        "        image_list.append(resize(image, output_shape=(32, 32, 1)))\n",
        "    X = np.array(image_list)\n",
        "    print(X.shape)\n",
        "    print(len(image_list))\n",
        "    assert(X.shape == (len(image_list), 32, 32, 1))\n",
        "    return X"
      ],
      "execution_count": null,
      "outputs": []
    },
    {
      "cell_type": "code",
      "metadata": {
        "id": "ebfVaAoTO1om"
      },
      "source": [
        "datagen = ImageDataGenerator()"
      ],
      "execution_count": null,
      "outputs": []
    },
    {
      "cell_type": "code",
      "metadata": {
        "id": "b1DXx1PwNoIw",
        "colab": {
          "base_uri": "https://localhost:8080/"
        },
        "outputId": "9b042682-4705-4661-eb55-6c23faab9583"
      },
      "source": [
        "(X_train, y_train), (X_val, y_val) = tf.keras.datasets.mnist.load_data()"
      ],
      "execution_count": null,
      "outputs": [
        {
          "output_type": "stream",
          "text": [
            "Downloading data from https://storage.googleapis.com/tensorflow/tf-keras-datasets/mnist.npz\n",
            "11493376/11490434 [==============================] - 0s 0us/step\n"
          ],
          "name": "stdout"
        }
      ]
    },
    {
      "cell_type": "code",
      "metadata": {
        "colab": {
          "base_uri": "https://localhost:8080/"
        },
        "id": "eXdxk6hZ0do3",
        "outputId": "a9793e4d-db0e-44f3-bd8b-73e3a5da6df0"
      },
      "source": [
        "X_val.shape"
      ],
      "execution_count": null,
      "outputs": [
        {
          "output_type": "execute_result",
          "data": {
            "text/plain": [
              "(10000, 28, 28)"
            ]
          },
          "metadata": {
            "tags": []
          },
          "execution_count": 11
        }
      ]
    },
    {
      "cell_type": "code",
      "metadata": {
        "id": "bpb3W-rVKN-X"
      },
      "source": [
        "# X_train = X_train [:20000]\n",
        "# y_train = y_train [:20000]\n",
        "\n",
        "# X_val = X_val [:1000]\n",
        "# y_val = y_val [:1000]"
      ],
      "execution_count": null,
      "outputs": []
    },
    {
      "cell_type": "code",
      "metadata": {
        "colab": {
          "base_uri": "https://localhost:8080/"
        },
        "id": "pC5Y9ADAc8QG",
        "outputId": "0bbc56d1-59ff-4d1b-ec69-a3cbbb41cea9"
      },
      "source": [
        "X_train = resize_data(X_train)\n",
        "X_val = resize_data(X_val)"
      ],
      "execution_count": null,
      "outputs": [
        {
          "output_type": "stream",
          "text": [
            "(60000, 28, 28)\n",
            "(60000, 32, 32, 1)\n",
            "60000\n",
            "(10000, 28, 28)\n",
            "(10000, 32, 32, 1)\n",
            "10000\n"
          ],
          "name": "stdout"
        }
      ]
    },
    {
      "cell_type": "code",
      "metadata": {
        "id": "pYwalgYcPDYJ"
      },
      "source": [
        "train_datagen = datagen.flow(X_train, y_train, shuffle=False, batch_size=16)\n",
        "validation_datagen = datagen.flow(X_val, y_val, shuffle=False, batch_size=16)"
      ],
      "execution_count": null,
      "outputs": []
    },
    {
      "cell_type": "code",
      "metadata": {
        "colab": {
          "base_uri": "https://localhost:8080/"
        },
        "id": "2VefAOSZPGS3",
        "outputId": "321cc250-ba24-4ccf-c0fd-cd2702034dc9"
      },
      "source": [
        "svae.fit_classifier_generator(\n",
        "\ttrain_datagen, validation_datagen,\n",
        "\tlearning_rate=LEARNING_RATE,\n",
        "\tbeta=BETA,\n",
        "\tnum_epochs=30)"
      ],
      "execution_count": null,
      "outputs": [
        {
          "output_type": "stream",
          "text": [
            "==========Training classifier, epoch 0 ==========\n",
            "Train accuracy = 0.0987\tTrain loss = 2.9134\n",
            "Validation accuracy = 0.0980\tValidation loss = 2.8970\n",
            "Best validation accuracy improved from -inf to 0.0980\n",
            "checkpointing: ../experiments/experiment-mnist-02/checkpoints/\n",
            "==========Training classifier, epoch 1 ==========\n",
            "Train accuracy = 0.5622\tTrain loss = 1.1356\n",
            "Validation accuracy = 0.5705\tValidation loss = 1.1246\n",
            "Best validation accuracy improved from 0.0980 to 0.5705\n",
            "checkpointing: ../experiments/experiment-mnist-02/checkpoints/\n",
            "==========Training classifier, epoch 2 ==========\n",
            "Train accuracy = 0.8912\tTrain loss = 0.8672\n",
            "Validation accuracy = 0.8959\tValidation loss = 0.8675\n",
            "Best validation accuracy improved from 0.5705 to 0.8959\n",
            "checkpointing: ../experiments/experiment-mnist-02/checkpoints/\n",
            "==========Training classifier, epoch 3 ==========\n",
            "Train accuracy = 0.9444\tTrain loss = 0.8161\n",
            "Validation accuracy = 0.9454\tValidation loss = 0.8169\n",
            "Best validation accuracy improved from 0.8959 to 0.9454\n",
            "checkpointing: ../experiments/experiment-mnist-02/checkpoints/\n",
            "==========Training classifier, epoch 4 ==========\n",
            "Train accuracy = 0.9697\tTrain loss = 0.7397\n",
            "Validation accuracy = 0.9672\tValidation loss = 0.7321\n",
            "Best validation accuracy improved from 0.9454 to 0.9672\n",
            "checkpointing: ../experiments/experiment-mnist-02/checkpoints/\n",
            "==========Training classifier, epoch 5 ==========\n",
            "Train accuracy = 0.9811\tTrain loss = 0.6430\n",
            "Validation accuracy = 0.9764\tValidation loss = 0.6507\n",
            "Best validation accuracy improved from 0.9672 to 0.9764\n",
            "checkpointing: ../experiments/experiment-mnist-02/checkpoints/\n",
            "WARNING:tensorflow:From /usr/local/lib/python3.7/dist-packages/tensorflow/python/training/saver.py:970: remove_checkpoint (from tensorflow.python.training.checkpoint_management) is deprecated and will be removed in a future version.\n",
            "Instructions for updating:\n",
            "Use standard file APIs to delete files with this prefix.\n",
            "==========Training classifier, epoch 6 ==========\n",
            "Train accuracy = 0.9855\tTrain loss = 0.5736\n",
            "Validation accuracy = 0.9804\tValidation loss = 0.5771\n",
            "Best validation accuracy improved from 0.9764 to 0.9804\n",
            "checkpointing: ../experiments/experiment-mnist-02/checkpoints/\n",
            "==========Training classifier, epoch 7 ==========\n",
            "Train accuracy = 0.9889\tTrain loss = 0.5938\n",
            "Validation accuracy = 0.9834\tValidation loss = 0.6050\n",
            "Best validation accuracy improved from 0.9804 to 0.9834\n",
            "checkpointing: ../experiments/experiment-mnist-02/checkpoints/\n",
            "==========Training classifier, epoch 8 ==========\n",
            "Train accuracy = 0.9907\tTrain loss = 0.5051\n",
            "Validation accuracy = 0.9842\tValidation loss = 0.5236\n",
            "Best validation accuracy improved from 0.9834 to 0.9842\n",
            "checkpointing: ../experiments/experiment-mnist-02/checkpoints/\n",
            "==========Training classifier, epoch 9 ==========\n",
            "Train accuracy = 0.9931\tTrain loss = 0.5749\n",
            "Validation accuracy = 0.9866\tValidation loss = 0.5843\n",
            "Best validation accuracy improved from 0.9842 to 0.9866\n",
            "checkpointing: ../experiments/experiment-mnist-02/checkpoints/\n",
            "==========Training classifier, epoch 10 ==========\n",
            "Train accuracy = 0.9944\tTrain loss = 0.5025\n",
            "Validation accuracy = 0.9875\tValidation loss = 0.5139\n",
            "Best validation accuracy improved from 0.9866 to 0.9875\n",
            "checkpointing: ../experiments/experiment-mnist-02/checkpoints/\n",
            "==========Training classifier, epoch 11 ==========\n",
            "Train accuracy = 0.9954\tTrain loss = 0.5171\n",
            "Validation accuracy = 0.9878\tValidation loss = 0.5518\n",
            "Best validation accuracy improved from 0.9875 to 0.9878\n",
            "checkpointing: ../experiments/experiment-mnist-02/checkpoints/\n",
            "==========Training classifier, epoch 12 ==========\n",
            "Train accuracy = 0.9959\tTrain loss = 0.4647\n",
            "Validation accuracy = 0.9899\tValidation loss = 0.4765\n",
            "Best validation accuracy improved from 0.9878 to 0.9899\n",
            "checkpointing: ../experiments/experiment-mnist-02/checkpoints/\n",
            "==========Training classifier, epoch 13 ==========\n",
            "Train accuracy = 0.9966\tTrain loss = 0.5170\n",
            "Validation accuracy = 0.9893\tValidation loss = 0.5347\n",
            "==========Training classifier, epoch 14 ==========\n",
            "Train accuracy = 0.9971\tTrain loss = 0.4339\n",
            "Validation accuracy = 0.9903\tValidation loss = 0.4552\n",
            "Best validation accuracy improved from 0.9899 to 0.9903\n",
            "checkpointing: ../experiments/experiment-mnist-02/checkpoints/\n",
            "==========Training classifier, epoch 15 ==========\n",
            "Train accuracy = 0.9973\tTrain loss = 0.4721\n",
            "Validation accuracy = 0.9907\tValidation loss = 0.4952\n",
            "Best validation accuracy improved from 0.9903 to 0.9907\n",
            "checkpointing: ../experiments/experiment-mnist-02/checkpoints/\n",
            "==========Training classifier, epoch 16 ==========\n",
            "Train accuracy = 0.9970\tTrain loss = 0.5455\n",
            "Validation accuracy = 0.9892\tValidation loss = 0.5725\n",
            "==========Training classifier, epoch 17 ==========\n",
            "Train accuracy = 0.9981\tTrain loss = 0.5330\n",
            "Validation accuracy = 0.9906\tValidation loss = 0.5526\n",
            "==========Training classifier, epoch 18 ==========\n",
            "Train accuracy = 0.9982\tTrain loss = 0.4004\n",
            "Validation accuracy = 0.9915\tValidation loss = 0.4299\n",
            "Best validation accuracy improved from 0.9907 to 0.9915\n",
            "checkpointing: ../experiments/experiment-mnist-02/checkpoints/\n",
            "==========Training classifier, epoch 19 ==========\n",
            "Train accuracy = 0.9984\tTrain loss = 0.4542\n",
            "Validation accuracy = 0.9914\tValidation loss = 0.4797\n",
            "==========Training classifier, epoch 20 ==========\n",
            "Train accuracy = 0.9987\tTrain loss = 0.4450\n",
            "Validation accuracy = 0.9916\tValidation loss = 0.4584\n",
            "Best validation accuracy improved from 0.9915 to 0.9916\n",
            "checkpointing: ../experiments/experiment-mnist-02/checkpoints/\n",
            "==========Training classifier, epoch 21 ==========\n",
            "Train accuracy = 0.9990\tTrain loss = 0.4496\n",
            "Validation accuracy = 0.9918\tValidation loss = 0.4829\n",
            "Best validation accuracy improved from 0.9916 to 0.9918\n",
            "checkpointing: ../experiments/experiment-mnist-02/checkpoints/\n",
            "==========Training classifier, epoch 22 ==========\n",
            "Train accuracy = 0.9989\tTrain loss = 0.4869\n",
            "Validation accuracy = 0.9911\tValidation loss = 0.5150\n",
            "==========Training classifier, epoch 23 ==========\n",
            "Train accuracy = 0.9990\tTrain loss = 0.3518\n",
            "Validation accuracy = 0.9925\tValidation loss = 0.3794\n",
            "Best validation accuracy improved from 0.9918 to 0.9925\n",
            "checkpointing: ../experiments/experiment-mnist-02/checkpoints/\n",
            "==========Training classifier, epoch 24 ==========\n",
            "Train accuracy = 0.9992\tTrain loss = 0.3598\n",
            "Validation accuracy = 0.9913\tValidation loss = 0.3975\n",
            "==========Training classifier, epoch 25 ==========\n",
            "Train accuracy = 0.9993\tTrain loss = 0.4502\n",
            "Validation accuracy = 0.9923\tValidation loss = 0.4888\n",
            "==========Training classifier, epoch 26 ==========\n",
            "Train accuracy = 0.9995\tTrain loss = 0.4106\n",
            "Validation accuracy = 0.9926\tValidation loss = 0.4414\n",
            "Best validation accuracy improved from 0.9925 to 0.9926\n",
            "checkpointing: ../experiments/experiment-mnist-02/checkpoints/\n",
            "==========Training classifier, epoch 27 ==========\n",
            "Train accuracy = 0.9995\tTrain loss = 0.3706\n",
            "Validation accuracy = 0.9926\tValidation loss = 0.4137\n",
            "==========Training classifier, epoch 28 ==========\n",
            "Train accuracy = 0.9994\tTrain loss = 0.4007\n",
            "Validation accuracy = 0.9923\tValidation loss = 0.4408\n",
            "==========Training classifier, epoch 29 ==========\n",
            "Train accuracy = 0.9996\tTrain loss = 0.3760\n",
            "Validation accuracy = 0.9918\tValidation loss = 0.4214\n",
            "==========Training classifier, epoch 30 ==========\n",
            "Train accuracy = 0.9997\tTrain loss = 0.3486\n",
            "Validation accuracy = 0.9916\tValidation loss = 0.3898\n",
            "Cross_entropy_loss: 0.14791253209114075 \t Latent_loss: 1.7377424240112305\n"
          ],
          "name": "stdout"
        }
      ]
    },
    {
      "cell_type": "code",
      "metadata": {
        "id": "gZVFfteqPcZW"
      },
      "source": [
        "svae.fit_decoder_generator(\n",
        "\ttrain_datagen, validation_datagen,\n",
        "\tlearning_rate=LEARNING_RATE,\n",
        "\tnum_epochs=30)"
      ],
      "execution_count": null,
      "outputs": []
    },
    {
      "cell_type": "markdown",
      "metadata": {
        "id": "Lh0uF6-jLgP_"
      },
      "source": [
        "# VAE"
      ]
    },
    {
      "cell_type": "code",
      "metadata": {
        "id": "XB9--ZPiEVnJ"
      },
      "source": [
        "import numpy as np\n",
        "import matplotlib.pyplot as plt\n",
        "import pandas as pd\n",
        "import seaborn as sns\n",
        "import warnings"
      ],
      "execution_count": null,
      "outputs": []
    },
    {
      "cell_type": "code",
      "metadata": {
        "colab": {
          "base_uri": "https://localhost:8080/",
          "height": 171
        },
        "id": "KlxOTVcgLnGV",
        "outputId": "fc7694e8-19e3-4737-d3e6-bdcfd1f2506f"
      },
      "source": [
        "from tensorflow.keras.datasets import mnist\n",
        "(trainX, trainy), (testX, testy) = mnist.load_data()\n",
        "print('Training data shapes: X=%s, y=%s' % (trainX.shape, trainy.shape))\n",
        "print('Testing data shapes: X=%s, y=%s' % (testX.shape, testy.shape))\n",
        "for j in range(5):\n",
        "    i = np.random.randint(0, 10000)\n",
        "    plt.subplot(550 + 1 + j)\n",
        "    plt.imshow(trainX[i], cmap='gray')\n",
        "    plt.title(trainy[i])\n",
        "plt.show()"
      ],
      "execution_count": null,
      "outputs": [
        {
          "output_type": "stream",
          "text": [
            "Downloading data from https://storage.googleapis.com/tensorflow/tf-keras-datasets/mnist.npz\n",
            "11493376/11490434 [==============================] - 0s 0us/step\n",
            "Training data shapes: X=(60000, 28, 28), y=(60000,)\n",
            "Testing data shapes: X=(10000, 28, 28), y=(10000,)\n"
          ],
          "name": "stdout"
        },
        {
          "output_type": "display_data",
          "data": {
            "image/png": "[encoded data removed]",
            "text/plain": [
              "<Figure size 432x288 with 5 Axes>"
            ]
          },
          "metadata": {
            "tags": [],
            "needs_background": "light"
          }
        }
      ]
    },
    {
      "cell_type": "code",
      "metadata": {
        "colab": {
          "base_uri": "https://localhost:8080/"
        },
        "id": "UVDCEBh5LvOn",
        "outputId": "7678d9e9-4181-4bbe-e754-7648ae5038f8"
      },
      "source": [
        "train_data = trainX.astype('float32')/255\n",
        "test_data = testX.astype('float32')/255\n",
        "train_data = np.reshape(train_data, (60000, 28, 28, 1))\n",
        "test_data = np.reshape(test_data, (10000, 28, 28, 1))\n",
        "print (train_data.shape, test_data.shape)\n"
      ],
      "execution_count": null,
      "outputs": [
        {
          "output_type": "stream",
          "text": [
            "(60000, 28, 28, 1) (10000, 28, 28, 1)\n"
          ],
          "name": "stdout"
        }
      ]
    },
    {
      "cell_type": "markdown",
      "metadata": {
        "id": "NLB8sYtHMClk"
      },
      "source": [
        "**ENCODER**"
      ]
    },
    {
      "cell_type": "code",
      "metadata": {
        "id": "TWiRf3cxL3jB"
      },
      "source": [
        "import tensorflow\n",
        "input_data = tensorflow.keras.layers.Input(shape=(28, 28, 1))\n",
        "encoder = tensorflow.keras.layers.Conv2D(64, (5,5), activation='relu')(input_data)\n",
        "encoder = tensorflow.keras.layers.MaxPooling2D((2,2))(encoder)\n",
        "encoder = tensorflow.keras.layers.Conv2D(64, (3,3), activation='relu')(encoder)\n",
        "encoder = tensorflow.keras.layers.MaxPooling2D((2,2))(encoder)\n",
        "encoder = tensorflow.keras.layers.Conv2D(32, (3,3), activation='relu')(encoder)\n",
        "encoder = tensorflow.keras.layers.MaxPooling2D((2,2))(encoder)\n",
        "encoder = tensorflow.keras.layers.Flatten()(encoder)\n",
        "encoder = tensorflow.keras.layers.Dense(16)(encoder)"
      ],
      "execution_count": null,
      "outputs": []
    },
    {
      "cell_type": "markdown",
      "metadata": {
        "id": "i0sEpyhZMMk7"
      },
      "source": [
        "**LATENT DISTRIBUTION AND SAMPLING**"
      ]
    },
    {
      "cell_type": "code",
      "metadata": {
        "id": "PHqJ0KazMKAu"
      },
      "source": [
        "def sample_latent_features(distribution):\n",
        "    distribution_mean, distribution_variance = distribution\n",
        "    batch_size = tensorflow.shape(distribution_variance)[0]\n",
        "    random = tensorflow.keras.backend.random_normal(shape=(batch_size, tensorflow.shape(distribution_variance)[1]))\n",
        "    return distribution_mean + tensorflow.exp(0.5 * distribution_variance) * random\n",
        " \n",
        "distribution_mean = tensorflow.keras.layers.Dense(2, name='mean')(encoder)\n",
        "distribution_variance = tensorflow.keras.layers.Dense(2, name='log_variance')(encoder)\n",
        "latent_encoding = tensorflow.keras.layers.Lambda(sample_latent_features)([distribution_mean, distribution_variance])"
      ],
      "execution_count": null,
      "outputs": []
    },
    {
      "cell_type": "code",
      "metadata": {
        "colab": {
          "base_uri": "https://localhost:8080/"
        },
        "id": "25Tun1lgMVpI",
        "outputId": "21a72052-c293-462f-a786-6e5adf9a7803"
      },
      "source": [
        "encoder_model = tensorflow.keras.Model(input_data, latent_encoding)\n",
        "encoder_model.summary()"
      ],
      "execution_count": null,
      "outputs": [
        {
          "output_type": "stream",
          "text": [
            "Model: \"model\"\n",
            "__________________________________________________________________________________________________\n",
            "Layer (type)                    Output Shape         Param #     Connected to                     \n",
            "==================================================================================================\n",
            "input_1 (InputLayer)            [(None, 28, 28, 1)]  0                                            \n",
            "__________________________________________________________________________________________________\n",
            "conv2d (Conv2D)                 (None, 24, 24, 64)   1664        input_1[0][0]                    \n",
            "__________________________________________________________________________________________________\n",
            "max_pooling2d (MaxPooling2D)    (None, 12, 12, 64)   0           conv2d[0][0]                     \n",
            "__________________________________________________________________________________________________\n",
            "conv2d_1 (Conv2D)               (None, 10, 10, 64)   36928       max_pooling2d[0][0]              \n",
            "__________________________________________________________________________________________________\n",
            "max_pooling2d_1 (MaxPooling2D)  (None, 5, 5, 64)     0           conv2d_1[0][0]                   \n",
            "__________________________________________________________________________________________________\n",
            "conv2d_2 (Conv2D)               (None, 3, 3, 32)     18464       max_pooling2d_1[0][0]            \n",
            "__________________________________________________________________________________________________\n",
            "max_pooling2d_2 (MaxPooling2D)  (None, 1, 1, 32)     0           conv2d_2[0][0]                   \n",
            "__________________________________________________________________________________________________\n",
            "flatten (Flatten)               (None, 32)           0           max_pooling2d_2[0][0]            \n",
            "__________________________________________________________________________________________________\n",
            "dense (Dense)                   (None, 16)           528         flatten[0][0]                    \n",
            "__________________________________________________________________________________________________\n",
            "mean (Dense)                    (None, 2)            34          dense[0][0]                      \n",
            "__________________________________________________________________________________________________\n",
            "log_variance (Dense)            (None, 2)            34          dense[0][0]                      \n",
            "__________________________________________________________________________________________________\n",
            "lambda (Lambda)                 (None, 2)            0           mean[0][0]                       \n",
            "                                                                 log_variance[0][0]               \n",
            "==================================================================================================\n",
            "Total params: 57,652\n",
            "Trainable params: 57,652\n",
            "Non-trainable params: 0\n",
            "__________________________________________________________________________________________________\n"
          ],
          "name": "stdout"
        }
      ]
    },
    {
      "cell_type": "markdown",
      "metadata": {
        "id": "XPDpaPC6Md5g"
      },
      "source": [
        "**DECODER**"
      ]
    },
    {
      "cell_type": "code",
      "metadata": {
        "id": "sNqPi6PSMZS4"
      },
      "source": [
        "decoder_input = tensorflow.keras.layers.Input(shape=(2))\n",
        "decoder = tensorflow.keras.layers.Dense(64)(decoder_input)\n",
        "decoder = tensorflow.keras.layers.Reshape((1, 1, 64))(decoder)\n",
        "decoder = tensorflow.keras.layers.Conv2DTranspose(64, (3,3), activation='relu')(decoder)\n",
        " \n",
        "decoder = tensorflow.keras.layers.Conv2DTranspose(64, (3,3), activation='relu')(decoder)\n",
        "decoder = tensorflow.keras.layers.UpSampling2D((2,2))(decoder)\n",
        " \n",
        "decoder = tensorflow.keras.layers.Conv2DTranspose(64, (3,3), activation='relu')(decoder)\n",
        "decoder = tensorflow.keras.layers.UpSampling2D((2,2))(decoder)\n",
        " \n",
        "decoder_output = tensorflow.keras.layers.Conv2DTranspose(1, (5,5), activation='relu')(decoder)"
      ],
      "execution_count": null,
      "outputs": []
    },
    {
      "cell_type": "code",
      "metadata": {
        "colab": {
          "base_uri": "https://localhost:8080/"
        },
        "id": "Dz8d31AQNHgz",
        "outputId": "4f99396b-f388-41d0-a435-c3079b7be1e7"
      },
      "source": [
        "decoder_model = tensorflow.keras.Model(decoder_input, decoder_output)\n",
        "decoder_model.summary()"
      ],
      "execution_count": null,
      "outputs": [
        {
          "output_type": "stream",
          "text": [
            "Model: \"model_1\"\n",
            "_________________________________________________________________\n",
            "Layer (type)                 Output Shape              Param #   \n",
            "=================================================================\n",
            "input_2 (InputLayer)         [(None, 2)]               0         \n",
            "_________________________________________________________________\n",
            "dense_1 (Dense)              (None, 64)                192       \n",
            "_________________________________________________________________\n",
            "reshape (Reshape)            (None, 1, 1, 64)          0         \n",
            "_________________________________________________________________\n",
            "conv2d_transpose (Conv2DTran (None, 3, 3, 64)          36928     \n",
            "_________________________________________________________________\n",
            "conv2d_transpose_1 (Conv2DTr (None, 5, 5, 64)          36928     \n",
            "_________________________________________________________________\n",
            "up_sampling2d (UpSampling2D) (None, 10, 10, 64)        0         \n",
            "_________________________________________________________________\n",
            "conv2d_transpose_2 (Conv2DTr (None, 12, 12, 64)        36928     \n",
            "_________________________________________________________________\n",
            "up_sampling2d_1 (UpSampling2 (None, 24, 24, 64)        0         \n",
            "_________________________________________________________________\n",
            "conv2d_transpose_3 (Conv2DTr (None, 28, 28, 1)         1601      \n",
            "=================================================================\n",
            "Total params: 112,577\n",
            "Trainable params: 112,577\n",
            "Non-trainable params: 0\n",
            "_________________________________________________________________\n"
          ],
          "name": "stdout"
        }
      ]
    },
    {
      "cell_type": "markdown",
      "metadata": {
        "id": "7_t5f-IHNds8"
      },
      "source": [
        "**BUILDING VAE**"
      ]
    },
    {
      "cell_type": "code",
      "metadata": {
        "colab": {
          "base_uri": "https://localhost:8080/"
        },
        "id": "gwqr05dJNK48",
        "outputId": "013e014f-e7ca-4a46-bce9-c4a30ae8f52f"
      },
      "source": [
        "encoded = encoder_model(input_data)\n",
        "decoded = decoder_model(encoded)\n",
        "autoencoder = tensorflow.keras.models.Model(input_data, decoded)\n",
        "autoencoder.summary()"
      ],
      "execution_count": null,
      "outputs": [
        {
          "output_type": "stream",
          "text": [
            "Model: \"model_2\"\n",
            "_________________________________________________________________\n",
            "Layer (type)                 Output Shape              Param #   \n",
            "=================================================================\n",
            "input_1 (InputLayer)         [(None, 28, 28, 1)]       0         \n",
            "_________________________________________________________________\n",
            "model (Functional)           (None, 2)                 57652     \n",
            "_________________________________________________________________\n",
            "model_1 (Functional)         (None, 28, 28, 1)         112577    \n",
            "=================================================================\n",
            "Total params: 170,229\n",
            "Trainable params: 170,229\n",
            "Non-trainable params: 0\n",
            "_________________________________________________________________\n"
          ],
          "name": "stdout"
        }
      ]
    },
    {
      "cell_type": "markdown",
      "metadata": {
        "id": "ZT9il3CON2p8"
      },
      "source": [
        "**LOSS FUNCTION**"
      ]
    },
    {
      "cell_type": "code",
      "metadata": {
        "id": "DoGmO7CGNzeZ"
      },
      "source": [
        "def get_loss(distribution_mean, distribution_variance):\n",
        "    \n",
        "    def get_reconstruction_loss(y_true, y_pred):\n",
        "        reconstruction_loss = tensorflow.keras.losses.mse(y_true, y_pred)\n",
        "        reconstruction_loss_batch = tensorflow.reduce_mean(reconstruction_loss)\n",
        "        #print('reconstruction_loss = {:.4f}'.format(reconstruction_loss_batch*28*28), end='\\t')\n",
        "        return reconstruction_loss_batch*28*28\n",
        "    \n",
        "    def get_kl_loss(distribution_mean, distribution_variance):\n",
        "        kl_loss = 1 + distribution_variance - tensorflow.square(distribution_mean) - tensorflow.exp(distribution_variance)\n",
        "        kl_loss_batch = tensorflow.reduce_mean(kl_loss)\n",
        "        #print('kl_loss= {:.4f}'.format(kl_loss_batch*(-0.5)), end='\\t')\n",
        "        return kl_loss_batch*(-0.5)\n",
        "    \n",
        "    def total_loss(y_true, y_pred):\n",
        "        reconstruction_loss_batch = get_reconstruction_loss(y_true, y_pred)\n",
        "        kl_loss_batch = get_kl_loss(distribution_mean, distribution_variance)\n",
        "        return reconstruction_loss_batch + kl_loss_batch\n",
        "    \n",
        "    return total_loss"
      ],
      "execution_count": null,
      "outputs": []
    },
    {
      "cell_type": "markdown",
      "metadata": {
        "id": "cQV2TkzqPfx5"
      },
      "source": [
        "**TRAINING**"
      ]
    },
    {
      "cell_type": "code",
      "metadata": {
        "colab": {
          "base_uri": "https://localhost:8080/"
        },
        "id": "CeDSlO4vPM6W",
        "outputId": "99654954-2ab3-4e85-e6dd-72ab689ba206"
      },
      "source": [
        "autoencoder.compile(loss=get_loss(distribution_mean, distribution_variance), optimizer='adam')\n",
        "autoencoder.summary()"
      ],
      "execution_count": null,
      "outputs": [
        {
          "output_type": "stream",
          "text": [
            "Model: \"model_2\"\n",
            "_________________________________________________________________\n",
            "Layer (type)                 Output Shape              Param #   \n",
            "=================================================================\n",
            "input_1 (InputLayer)         [(None, 28, 28, 1)]       0         \n",
            "_________________________________________________________________\n",
            "model (Functional)           (None, 2)                 57652     \n",
            "_________________________________________________________________\n",
            "model_1 (Functional)         (None, 28, 28, 1)         112577    \n",
            "=================================================================\n",
            "Total params: 170,229\n",
            "Trainable params: 170,229\n",
            "Non-trainable params: 0\n",
            "_________________________________________________________________\n"
          ],
          "name": "stdout"
        }
      ]
    },
    {
      "cell_type": "code",
      "metadata": {
        "colab": {
          "base_uri": "https://localhost:8080/"
        },
        "id": "eNxiAr9LPlm5",
        "outputId": "87d381a4-34c5-4e16-a44b-962bf9ef6af5"
      },
      "source": [
        "autoencoder.fit(train_data, train_data, epochs=20, batch_size=64, validation_data=(test_data, test_data))"
      ],
      "execution_count": null,
      "outputs": [
        {
          "output_type": "stream",
          "text": [
            "Train on 60000 samples, validate on 10000 samples\n",
            "Epoch 1/20\n",
            "60000/60000 [==============================] - ETA: 0s - loss: 42.6608"
          ],
          "name": "stdout"
        },
        {
          "output_type": "stream",
          "text": [
            "/usr/local/lib/python3.7/dist-packages/tensorflow/python/keras/engine/training.py:2325: UserWarning: `Model.state_updates` will be removed in a future version. This property should not be used in TensorFlow 2.0, as `updates` are applied automatically.\n",
            "  warnings.warn('`Model.state_updates` will be removed in a future version. '\n"
          ],
          "name": "stderr"
        },
        {
          "output_type": "stream",
          "text": [
            "60000/60000 [==============================] - 40s 673us/sample - loss: 42.6608 - val_loss: 38.7433\n",
            "Epoch 2/20\n",
            "60000/60000 [==============================] - 7s 124us/sample - loss: 37.8951 - val_loss: 36.7317\n",
            "Epoch 3/20\n",
            "60000/60000 [==============================] - 7s 125us/sample - loss: 36.6465 - val_loss: 36.5233\n",
            "Epoch 4/20\n",
            "60000/60000 [==============================] - 8s 125us/sample - loss: 36.0048 - val_loss: 35.9721\n",
            "Epoch 5/20\n",
            "60000/60000 [==============================] - 8s 125us/sample - loss: 35.5525 - val_loss: 35.5449\n",
            "Epoch 6/20\n",
            "60000/60000 [==============================] - 7s 124us/sample - loss: 35.1958 - val_loss: 35.6363\n",
            "Epoch 7/20\n",
            "60000/60000 [==============================] - 7s 125us/sample - loss: 34.9540 - val_loss: 34.9436\n",
            "Epoch 8/20\n",
            "60000/60000 [==============================] - 7s 125us/sample - loss: 34.7542 - val_loss: 34.7855\n",
            "Epoch 9/20\n",
            "60000/60000 [==============================] - 7s 124us/sample - loss: 34.5859 - val_loss: 34.7184\n",
            "Epoch 10/20\n",
            "60000/60000 [==============================] - 7s 124us/sample - loss: 34.4595 - val_loss: 34.4640\n",
            "Epoch 11/20\n",
            "60000/60000 [==============================] - 7s 124us/sample - loss: 34.3390 - val_loss: 34.5150\n",
            "Epoch 12/20\n",
            "60000/60000 [==============================] - 7s 124us/sample - loss: 34.1650 - val_loss: 34.2980\n",
            "Epoch 13/20\n",
            "60000/60000 [==============================] - 7s 125us/sample - loss: 34.0721 - val_loss: 34.4402\n",
            "Epoch 14/20\n",
            "60000/60000 [==============================] - 7s 124us/sample - loss: 33.9871 - val_loss: 34.2497\n",
            "Epoch 15/20\n",
            "60000/60000 [==============================] - 7s 124us/sample - loss: 33.9283 - val_loss: 34.0950\n",
            "Epoch 16/20\n",
            "60000/60000 [==============================] - 7s 124us/sample - loss: 33.8389 - val_loss: 33.8635\n",
            "Epoch 17/20\n",
            "60000/60000 [==============================] - 7s 124us/sample - loss: 33.7807 - val_loss: 34.0332\n",
            "Epoch 18/20\n",
            "60000/60000 [==============================] - 7s 124us/sample - loss: 33.6758 - val_loss: 33.9219\n",
            "Epoch 19/20\n",
            "60000/60000 [==============================] - 7s 123us/sample - loss: 33.5579 - val_loss: 34.1253\n",
            "Epoch 20/20\n",
            "60000/60000 [==============================] - 7s 124us/sample - loss: 33.5476 - val_loss: 34.1699\n"
          ],
          "name": "stdout"
        },
        {
          "output_type": "execute_result",
          "data": {
            "text/plain": [
              "<tensorflow.python.keras.callbacks.History at 0x7fde5da866d0>"
            ]
          },
          "metadata": {
            "tags": []
          },
          "execution_count": 61
        }
      ]
    },
    {
      "cell_type": "markdown",
      "metadata": {
        "id": "4-CFWi8WQj7a"
      },
      "source": [
        "**RESULTS**"
      ]
    },
    {
      "cell_type": "code",
      "metadata": {
        "colab": {
          "base_uri": "https://localhost:8080/",
          "height": 609
        },
        "id": "pidT3VjqPt4v",
        "outputId": "43cb6cea-23a6-49f7-a63a-ddb510af4fcb"
      },
      "source": [
        "offset=400\n",
        "print (\"Real Test Images\")\n",
        "# Real Images\n",
        "for i in range(9):\n",
        "    plt.subplot(330 + 1 + i)\n",
        "    plt.imshow(test_data[i+offset,:,:, -1], cmap='gray')\n",
        "plt.show()\n",
        "\n",
        "# Reconstructed Images\n",
        "print (\"Reconstructed Images with Variational Autoencoder\")\n",
        "for i in range(9):\n",
        "    plt.subplot(330 + 1 + i)\n",
        "    output = autoencoder.predict(np.array([test_data[i+offset]]))\n",
        "    op_image = np.reshape(output[0]*255, (28, 28))\n",
        "    plt.imshow(op_image, cmap='gray')\n",
        "plt.show()"
      ],
      "execution_count": null,
      "outputs": [
        {
          "output_type": "stream",
          "text": [
            "Real Test Images\n"
          ],
          "name": "stdout"
        },
        {
          "output_type": "display_data",
          "data": {
            "image/png": "[encoded data removed]",
            "text/plain": [
              "<Figure size 432x288 with 9 Axes>"
            ]
          },
          "metadata": {
            "tags": [],
            "needs_background": "light"
          }
        },
        {
          "output_type": "stream",
          "text": [
            "Reconstructed Images with Variational Autoencoder\n"
          ],
          "name": "stdout"
        },
        {
          "output_type": "stream",
          "text": [
            "/usr/local/lib/python3.7/dist-packages/tensorflow/python/keras/engine/training.py:2325: UserWarning: `Model.state_updates` will be removed in a future version. This property should not be used in TensorFlow 2.0, as `updates` are applied automatically.\n",
            "  warnings.warn('`Model.state_updates` will be removed in a future version. '\n"
          ],
          "name": "stderr"
        },
        {
          "output_type": "display_data",
          "data": {
            "image/png": "[encoded data removed]",
            "text/plain": [
              "<Figure size 432x288 with 9 Axes>"
            ]
          },
          "metadata": {
            "tags": [],
            "needs_background": "light"
          }
        }
      ]
    }
  ]
}